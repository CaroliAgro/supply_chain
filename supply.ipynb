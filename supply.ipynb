{
 "cells": [
  {
   "cell_type": "markdown",
   "id": "surface-reliance",
   "metadata": {},
   "source": [
    "#### Medidas de centralidade\n",
    "- Media (afetada por outliers)\n",
    "- Mediana\n",
    "- Moda ( valor mais frequente na amostra\n",
    "\n",
    "#### Medidas de propagação\n",
    "- DP - Mede a variabilidade dos dados (sum(yi -ym)^2/(n-1))^0.5\n",
    "- Quanto maior o desvio maior, pensar em estoque de segurança para atender a demanda dos clientes\n",
    "\n",
    "#### Conceitos\n",
    "\n",
    "- Outliers - observaçõe que estão distante da média ( longe da mioria das) observações -- além do padrão de distribuição. Remover antes da modelagem. Identificar a causa (evento não regular) - promoção, feriado\n",
    "- 1º quartil - valor aos 25 % da amostra ordenada separa os 25% de dados inferiores\n",
    "- 2º quartil - mediana\n",
    "- 3 º quartil - valor aos 75 % da amostra ordenada\n",
    "- Percentil indica que há x% de dados inferiores Lp= (n-1)*p/100 +1\n",
    "\n",
    "#### Regressão linear\n",
    "- Utilizada para modelar a relação entre 2 variaveis( uma dependente outra independente)\n",
    "- Variavel dependente (aquela que estamos tentando prever ) - vendas\n",
    "- Variavel independente - exemplo: preço\n",
    "- Encontre a e b com LINEST\n",
    "\n",
    "#### Distribuições demanda e tempo\n",
    "\n",
    "- Intermitente - Alta variabilidade no tempo da demanda e baixa variabilidade na quantidade demandada\n",
    "- Lumpy - Alta variabilidade no tempo da demanda e alta variabilidade na quantidade demandada (muito dificil de prever)"
   ]
  },
  {
   "cell_type": "code",
   "execution_count": 92,
   "id": "figured-speech",
   "metadata": {},
   "outputs": [
    {
     "name": "stdout",
     "output_type": "stream",
     "text": [
      "A média é 250.628\n",
      "A médiana é 245.5\n",
      "A moda é 178.0\n",
      "O desvio é 141.29252348653552\n",
      "O range é  496.0\n",
      "A variância  é 19963.577193193192\n",
      "50 % dos dados são inferiores à 245.5\n"
     ]
    }
   ],
   "source": [
    "# Demanda do suco em 500 dias \n",
    "import numpy as np\n",
    "import statistics\n",
    "def medidas_centralidade_e_propagação():\n",
    "    suco_apple = np.random.uniform(2,500, 1000).round()\n",
    "    print(f\"A média é\",suco_apple.mean())\n",
    "    print(f\"A médiana é\",statistics.median(suco_apple))\n",
    "    print(f\"A moda é\",statistics.mode(suco_apple))\n",
    "    print(f\"O desvio é\", statistics.stdev(suco_apple))\n",
    "    print(f\"O range é \", max(suco_apple)-min(suco_apple))\n",
    "    print(f\"A variância  é\", statistics.variance(suco_apple))\n",
    "    print(f\"50 % dos dados são inferiores à\", np.percentile(suco_apple,50))\n",
    "medidas_centralidade_e_propagação()"
   ]
  },
  {
   "cell_type": "code",
   "execution_count": 91,
   "id": "marine-mayor",
   "metadata": {},
   "outputs": [],
   "source": [
    "amostras = [1, 2, 6, 13, 13, 14, 14, 14, 15, 15, 16, 18, 18, 18, 20,25]\n",
    "def identificando_outliers(amostras):\n",
    "    if len(amostras)%2 ==0:\n",
    "        mediana = (amostras[int((len(amostras)-2)/2)] + amostras[int((len(amostras)-2)/2)+1])/2\n",
    "        primeiro_quartil = amostras[int(0.25*(len(amostras)))-1]\n",
    "        terceiro_quartil= amostras[int(0.75*(len(amostras)))-1]\n",
    "    else:\n",
    "        mediana = amostras[int((len(amostras) -2)/2 +1)]\n",
    "        primeiro_quartil = (amostras[int(0.25*(len(amostras)))] + amostras[int(0.25*(len(amostras)))+1])/2\n",
    "        terceiro_quartil= (amostras[int(0.75*(len(amostras)))-1] + amostras[int(0.75*(len(amostras)))])/2\n",
    "\n",
    "    IIQ = terceiro_quartil - primeiro_quartil\n",
    "    limiar_inferior = primeiro_quartil - 1.5*IIQ\n",
    "    limiar_superior = terceiro_quartil + 1.5*IIQ\n",
    "\n",
    "    outliers = [i for i in amostras if i < limiar_inferior or i > limiar_superior ]\n",
    "    return outliers"
   ]
  },
  {
   "cell_type": "markdown",
   "id": "fifty-football",
   "metadata": {},
   "source": [
    "#### Correlações"
   ]
  },
  {
   "cell_type": "code",
   "execution_count": 3,
   "id": "cultural-porcelain",
   "metadata": {},
   "outputs": [],
   "source": [
    "import pandas as pd\n",
    "import seaborn as sns"
   ]
  },
  {
   "cell_type": "code",
   "execution_count": 14,
   "id": "reverse-exclusive",
   "metadata": {},
   "outputs": [],
   "source": [
    "class Documento:\n",
    "    def __init__(self, name):\n",
    "        self.name =name\n",
    "        self.df = {}\n",
    "    def carregar_dados(self):\n",
    "        self.df = pd.read_csv(self.name)\n",
    "        return self.df\n",
    "    def limpar_dados(self):\n",
    "        return self.df.dropna(axis = 0)\n",
    "    def corr(self, a, b):\n",
    "        x = self.df.iloc[:, [a,b]].corr()\n",
    "        sns.heatmap(x)\n",
    "    def cilindros(self):\n",
    "        return self.df['cylenders'].value_counts()\n",
    "        \n",
    "        "
   ]
  },
  {
   "cell_type": "code",
   "execution_count": 16,
   "id": "outstanding-account",
   "metadata": {},
   "outputs": [
    {
     "data": {
      "image/png": "[encoded data removed]",
      "text/plain": [
       "<Figure size 432x288 with 2 Axes>"
      ]
     },
     "metadata": {
      "needs_background": "light"
     },
     "output_type": "display_data"
    }
   ],
   "source": [
    "doc = Documento('cars.csv')\n",
    "don = doc.carregar_dados()\n",
    "clean = doc.limpar_dados()\n",
    "doc.corr(12, 13)\n",
    "cili = doc.cilindros()"
   ]
  },
  {
   "cell_type": "markdown",
   "id": "blocked-alignment",
   "metadata": {},
   "source": [
    "#### Regressão Linear"
   ]
  },
  {
   "cell_type": "code",
   "execution_count": 1,
   "id": "norman-photograph",
   "metadata": {},
   "outputs": [],
   "source": [
    "import pandas as pd\n",
    "import seaborn as sns\n",
    "from sklearn.linear_model import LinearRegression"
   ]
  },
  {
   "cell_type": "code",
   "execution_count": 9,
   "id": "national-circuit",
   "metadata": {},
   "outputs": [
    {
     "name": "stdout",
     "output_type": "stream",
     "text": [
      "[-10.]\n",
      "500.0\n"
     ]
    },
    {
     "data": {
      "text/html": [
       "<div>\n",
       "<style scoped>\n",
       "    .dataframe tbody tr th:only-of-type {\n",
       "        vertical-align: middle;\n",
       "    }\n",
       "\n",
       "    .dataframe tbody tr th {\n",
       "        vertical-align: top;\n",
       "    }\n",
       "\n",
       "    .dataframe thead th {\n",
       "        text-align: right;\n",
       "    }\n",
       "</style>\n",
       "<table border=\"1\" class=\"dataframe\">\n",
       "  <thead>\n",
       "    <tr style=\"text-align: right;\">\n",
       "      <th></th>\n",
       "      <th>Demand</th>\n",
       "      <th>Price</th>\n",
       "      <th>predict</th>\n",
       "    </tr>\n",
       "  </thead>\n",
       "  <tbody>\n",
       "    <tr>\n",
       "      <th>0</th>\n",
       "      <td>400</td>\n",
       "      <td>10.0</td>\n",
       "      <td>400.0</td>\n",
       "    </tr>\n",
       "    <tr>\n",
       "      <th>1</th>\n",
       "      <td>380</td>\n",
       "      <td>12.0</td>\n",
       "      <td>380.0</td>\n",
       "    </tr>\n",
       "    <tr>\n",
       "      <th>2</th>\n",
       "      <td>370</td>\n",
       "      <td>13.0</td>\n",
       "      <td>370.0</td>\n",
       "    </tr>\n",
       "    <tr>\n",
       "      <th>3</th>\n",
       "      <td>390</td>\n",
       "      <td>11.0</td>\n",
       "      <td>390.0</td>\n",
       "    </tr>\n",
       "    <tr>\n",
       "      <th>4</th>\n",
       "      <td>395</td>\n",
       "      <td>10.5</td>\n",
       "      <td>395.0</td>\n",
       "    </tr>\n",
       "    <tr>\n",
       "      <th>5</th>\n",
       "      <td>410</td>\n",
       "      <td>9.0</td>\n",
       "      <td>410.0</td>\n",
       "    </tr>\n",
       "    <tr>\n",
       "      <th>6</th>\n",
       "      <td>430</td>\n",
       "      <td>7.0</td>\n",
       "      <td>430.0</td>\n",
       "    </tr>\n",
       "    <tr>\n",
       "      <th>7</th>\n",
       "      <td>412</td>\n",
       "      <td>8.8</td>\n",
       "      <td>412.0</td>\n",
       "    </tr>\n",
       "    <tr>\n",
       "      <th>8</th>\n",
       "      <td>370</td>\n",
       "      <td>13.0</td>\n",
       "      <td>370.0</td>\n",
       "    </tr>\n",
       "  </tbody>\n",
       "</table>\n",
       "</div>"
      ],
      "text/plain": [
       "   Demand  Price  predict\n",
       "0     400   10.0    400.0\n",
       "1     380   12.0    380.0\n",
       "2     370   13.0    370.0\n",
       "3     390   11.0    390.0\n",
       "4     395   10.5    395.0\n",
       "5     410    9.0    410.0\n",
       "6     430    7.0    430.0\n",
       "7     412    8.8    412.0\n",
       "8     370   13.0    370.0"
      ]
     },
     "execution_count": 9,
     "metadata": {},
     "output_type": "execute_result"
    }
   ],
   "source": [
    "pricing = pd.read_excel('pricing.xlsx', engine='openpyxl' )\n",
    "X = pricing.Price.values.reshape(-1,1) #variável independente\n",
    "y = pricing.Demand\n",
    "model = LinearRegression()\n",
    "model.fit(X, y)\n",
    "print(model.coef_)\n",
    "print(model.intercept_)\n",
    "pricing['predict']=model.predict(X)\n",
    "pricing"
   ]
  },
  {
   "cell_type": "markdown",
   "id": "macro-edgar",
   "metadata": {},
   "source": [
    "#### Teste hipotese\n",
    "- Verificar se a frequência com que um determinado acontecimento observado em uma amostra se desvia significativamente ou não da frequência com que ele é esperado\n",
    "- hipotese nula ( segue uma distribuição normal) –frequências observadas = frequências esperadas\n",
    "- if p-value > 0.05 (não rejeito a hipotese nula)\n",
    "- if p-value < 0.05 (rejeito hipotese)"
   ]
  },
  {
   "cell_type": "code",
   "execution_count": 6,
   "id": "ethical-information",
   "metadata": {},
   "outputs": [],
   "source": [
    "from scipy.stats import norm, normaltest, kstest\n",
    "import pandas as pd\n",
    "import numpy as np\n",
    "import scipy.stats as st"
   ]
  },
  {
   "cell_type": "code",
   "execution_count": 12,
   "id": "exclusive-penguin",
   "metadata": {},
   "outputs": [
    {
     "name": "stdout",
     "output_type": "stream",
     "text": [
      "the result for dist norm is KstestResult(statistic=0.04011911785947586, pvalue=0.6423077067552097)\n",
      "the result for dist exponweib is KstestResult(statistic=0.7149966358707146, pvalue=1.1842591378527938e-172)\n",
      "the result for dist weibull_max is KstestResult(statistic=0.8212900008150043, pvalue=2.2685136143704807e-247)\n",
      "the result for dist weibull_min is KstestResult(statistic=0.7912570467437425, pvalue=3.3455808063457176e-223)\n",
      "the result for dist pareto is KstestResult(statistic=0.37806737069342256, pvalue=2.8156556467198532e-43)\n"
     ]
    }
   ],
   "source": [
    "skus = pd.read_csv('sku_distributions.csv')\n",
    "dist_names = [\"norm\",\"exponweib\", \"weibull_max\", \"weibull_min\",\"pareto\"]\n",
    "\n",
    "apple_juice = np.array(skus['apple_juice'])\n",
    "mean = apple_juice.mean()\n",
    "sd = apple_juice.std()\n",
    "# Concluimos que não rejeitamos a hipotese nula e de fato parece que a distribuição segue uma normal\n",
    "kstest(apple_juice, 'norm', args=(mean,sd))\n",
    "# qual distribuição é melhor ajustada a partir de uma variedade de distribuição normal\n",
    "result = []\n",
    "parameters = {}\n",
    "norm_param = getattr(st, 'norm')\n",
    "norm_param.fit(apple_juice)\n",
    "for dist in dist_names:\n",
    "    param = getattr(st, dist)\n",
    "    fitting =  param.fit(apple_juice)\n",
    "    test = kstest(apple_juice, dist, args = fitting)\n",
    "    result.append([dist, test])\n",
    "    print(\"the result for dist \"+ dist+' is '+str(test))\n",
    "#Conclui-se que de fato nossa distribuição é normal"
   ]
  },
  {
   "cell_type": "markdown",
   "id": "continuous-smell",
   "metadata": {},
   "source": [
    "#### Trabalhando com datas"
   ]
  },
  {
   "cell_type": "code",
   "execution_count": 1,
   "id": "vietnamese-basket",
   "metadata": {},
   "outputs": [],
   "source": [
    "import pandas as pd\n",
    "from datetime import datetime\n",
    "import numpy as np\n",
    "import matplotlib.pyplot as plt\n",
    "retail = pd.read_csv('online_retail2.csv')\n",
    "ratail= retail.drop_duplicates()\n",
    "retail=retail.replace('None', float(\"nan\")).dropna()\n",
    "retail['InvoiceDate'] = pd.to_datetime(retail['InvoiceDate'])\n",
    "retail['InvoiceDate'].max() - retail['InvoiceDate'].max()\n",
    "#para id (X) qual a máxima da data, ultima data que cliente comprou\n",
    "last_purchase_Date = retail.groupby('Customer ID', as_index=False)['InvoiceDate'].max()\n",
    "last_purchase_Date['Recency'] = retail['InvoiceDate'].max() - last_purchase_Date['InvoiceDate']\n",
    "last_purchase_Date['Recency'] = last_purchase_Date['Recency'].dt.components['days']"
   ]
  },
  {
   "cell_type": "code",
   "execution_count": null,
   "id": "clinical-roberts",
   "metadata": {},
   "outputs": [],
   "source": [
    "# Que fizeram commpra no 100 dias atrás temos muitos clientes\n",
    "plt.hist(last_purchase_Date['Recency'])\n",
    "plt.show()"
   ]
  },
  {
   "cell_type": "code",
   "execution_count": 113,
   "id": "severe-jefferson",
   "metadata": {},
   "outputs": [],
   "source": [
    "#Com que freuqencia o cliente chega a loja\n",
    "customers=np.unique(retail['Customer ID'])"
   ]
  },
  {
   "cell_type": "code",
   "execution_count": 114,
   "id": "moved-discount",
   "metadata": {},
   "outputs": [
    {
     "name": "stdout",
     "output_type": "stream",
     "text": [
      "[12346. 12347. 12348. ... 18285. 18286. 18287.]\n"
     ]
    }
   ],
   "source": [
    "print(customers)"
   ]
  },
  {
   "cell_type": "code",
   "execution_count": 115,
   "id": "pressing-barcelona",
   "metadata": {},
   "outputs": [
    {
     "data": {
      "text/plain": [
       "5942"
      ]
     },
     "execution_count": 115,
     "metadata": {},
     "output_type": "execute_result"
    }
   ],
   "source": [
    "len(customers)"
   ]
  },
  {
   "cell_type": "code",
   "execution_count": 116,
   "id": "integral-ladder",
   "metadata": {},
   "outputs": [],
   "source": [
    "retail['date']=retail['InvoiceDate'].dt.strftime('%Y-%m-%d')"
   ]
  },
  {
   "cell_type": "code",
   "execution_count": 119,
   "id": "billion-requirement",
   "metadata": {},
   "outputs": [],
   "source": [
    "#imprimeee pra vc sempre entender não deixa nada passar batido\n",
    "# date só tem uma unica\n",
    "customer_grouped = retail.groupby(['Customer ID', 'date'], as_index=False).count()[['Customer ID', 'date']]"
   ]
  },
  {
   "cell_type": "code",
   "execution_count": 129,
   "id": "existing-example",
   "metadata": {},
   "outputs": [],
   "source": [
    "c_d = customer_grouped[customer_grouped['Customer ID']==12346.0]"
   ]
  },
  {
   "cell_type": "code",
   "execution_count": null,
   "id": "steady-engine",
   "metadata": {},
   "outputs": [],
   "source": [
    "# fazer a duração entre uma compra e outra\n",
    "inter_data = pd.DataFrame()\n",
    "for customer in customers:\n",
    "    c_d = customer_grouped[customer_grouped['Customer ID']==customer]\n",
    "    c_d['previous_date'] = c_d['date'].shift(1)\n",
    "    inter_data = pd.concat([inter_data, c_d], axis=0)"
   ]
  },
  {
   "cell_type": "code",
   "execution_count": 137,
   "id": "responsible-institute",
   "metadata": {},
   "outputs": [
    {
     "data": {
      "text/html": [
       "<div>\n",
       "<style scoped>\n",
       "    .dataframe tbody tr th:only-of-type {\n",
       "        vertical-align: middle;\n",
       "    }\n",
       "\n",
       "    .dataframe tbody tr th {\n",
       "        vertical-align: top;\n",
       "    }\n",
       "\n",
       "    .dataframe thead th {\n",
       "        text-align: right;\n",
       "    }\n",
       "</style>\n",
       "<table border=\"1\" class=\"dataframe\">\n",
       "  <thead>\n",
       "    <tr style=\"text-align: right;\">\n",
       "      <th></th>\n",
       "      <th>Customer ID</th>\n",
       "      <th>date</th>\n",
       "      <th>previous_date</th>\n",
       "    </tr>\n",
       "  </thead>\n",
       "  <tbody>\n",
       "    <tr>\n",
       "      <th>0</th>\n",
       "      <td>12346.0</td>\n",
       "      <td>2009-12-14</td>\n",
       "      <td>NaN</td>\n",
       "    </tr>\n",
       "    <tr>\n",
       "      <th>1</th>\n",
       "      <td>12346.0</td>\n",
       "      <td>2009-12-18</td>\n",
       "      <td>2009-12-14</td>\n",
       "    </tr>\n",
       "    <tr>\n",
       "      <th>2</th>\n",
       "      <td>12346.0</td>\n",
       "      <td>2010-01-04</td>\n",
       "      <td>2009-12-18</td>\n",
       "    </tr>\n",
       "    <tr>\n",
       "      <th>3</th>\n",
       "      <td>12346.0</td>\n",
       "      <td>2010-01-14</td>\n",
       "      <td>2010-01-04</td>\n",
       "    </tr>\n",
       "    <tr>\n",
       "      <th>4</th>\n",
       "      <td>12346.0</td>\n",
       "      <td>2010-01-22</td>\n",
       "      <td>2010-01-14</td>\n",
       "    </tr>\n",
       "  </tbody>\n",
       "</table>\n",
       "</div>"
      ],
      "text/plain": [
       "   Customer ID        date previous_date\n",
       "0      12346.0  2009-12-14           NaN\n",
       "1      12346.0  2009-12-18    2009-12-14\n",
       "2      12346.0  2010-01-04    2009-12-18\n",
       "3      12346.0  2010-01-14    2010-01-04\n",
       "4      12346.0  2010-01-22    2010-01-14"
      ]
     },
     "execution_count": 137,
     "metadata": {},
     "output_type": "execute_result"
    }
   ],
   "source": [
    "inter_data.head()"
   ]
  },
  {
   "cell_type": "code",
   "execution_count": 138,
   "id": "reasonable-wonder",
   "metadata": {},
   "outputs": [],
   "source": [
    "inter_data['date']=pd.to_datetime(inter_data['date'])"
   ]
  },
  {
   "cell_type": "code",
   "execution_count": 139,
   "id": "quality-microphone",
   "metadata": {},
   "outputs": [],
   "source": [
    "inter_data['previous_date']=pd.to_datetime(inter_data['previous_date'])\n",
    "#duração entre uma compra e outra\n",
    "inter_data['duration'] = inter_data['date']-inter_data['previous_date']"
   ]
  },
  {
   "cell_type": "code",
   "execution_count": 143,
   "id": "dimensional-cheat",
   "metadata": {},
   "outputs": [],
   "source": [
    "inter_data['duration']=inter_data['duration'].dt.components['days']"
   ]
  },
  {
   "cell_type": "code",
   "execution_count": 144,
   "id": "logical-invitation",
   "metadata": {},
   "outputs": [],
   "source": [
    "inter_arrival = inter_data.groupby('Customer ID')['duration'].mean()"
   ]
  },
  {
   "cell_type": "code",
   "execution_count": 1,
   "id": "square-blank",
   "metadata": {},
   "outputs": [],
   "source": [
    "import pandas as pd"
   ]
  },
  {
   "cell_type": "code",
   "execution_count": 2,
   "id": "closing-uruguay",
   "metadata": {},
   "outputs": [],
   "source": [
    "stocks = pd.read_csv('stocks.csv', index_col='Date', parse_dates=True)"
   ]
  },
  {
   "cell_type": "code",
   "execution_count": 3,
   "id": "standard-reliance",
   "metadata": {},
   "outputs": [
    {
     "data": {
      "text/plain": [
       "<AxesSubplot:xlabel='Date'>"
      ]
     },
     "execution_count": 3,
     "metadata": {},
     "output_type": "execute_result"
    },
    {
     "data": {
      "image/png": "[encoded data removed]",
      "text/plain": [
       "<Figure size 432x288 with 1 Axes>"
      ]
     },
     "metadata": {
      "needs_background": "light"
     },
     "output_type": "display_data"
    }
   ],
   "source": [
    "stocks.plot()"
   ]
  },
  {
   "cell_type": "code",
   "execution_count": 5,
   "id": "paperback-spider",
   "metadata": {},
   "outputs": [],
   "source": [
    "monthly = stocks.resample('M').mean()\n",
    "year = stocks.resample('Y').mean()\n",
    "semana = stocks.resample('W').mean()\n",
    "quarter_series_sum = stocks.resample('W').sum()"
   ]
  },
  {
   "cell_type": "code",
   "execution_count": null,
   "id": "revolutionary-access",
   "metadata": {},
   "outputs": [],
   "source": [
    "MSFT = stocks[['MSFT']]\n",
    "MSFT['rolling_weekly'] = MSFT.rolling(window=7).mean()\n",
    "MSFT['rolling_monthly'] = MSFT['MSFT'].rolling(window=30).mean()"
   ]
  },
  {
   "cell_type": "code",
   "execution_count": 157,
   "id": "material-developer",
   "metadata": {},
   "outputs": [
    {
     "name": "stderr",
     "output_type": "stream",
     "text": [
      "<ipython-input-157-8e4eb35fc6ac>:1: FutureWarning: Indexing a DataFrame with a datetimelike index using a single string to slice the rows, like `frame[string]`, is deprecated and will be removed in a future version. Use `frame.loc[string]` instead.\n",
      "  MSFT['Aug-2011'].plot()\n"
     ]
    },
    {
     "data": {
      "text/plain": [
       "<AxesSubplot:xlabel='Date'>"
      ]
     },
     "execution_count": 157,
     "metadata": {},
     "output_type": "execute_result"
    },
    {
     "data": {
      "image/png": "[encoded data removed]",
      "text/plain": [
       "<Figure size 432x288 with 1 Axes>"
      ]
     },
     "metadata": {
      "needs_background": "light"
     },
     "output_type": "display_data"
    }
   ],
   "source": [
    "MSFT['Aug-2011'].plot()"
   ]
  },
  {
   "cell_type": "markdown",
   "id": "pending-willow",
   "metadata": {},
   "source": [
    "#### Segmentation \n",
    "- Você pode segmentar o cliente, o produto, fornecedores\n",
    "- Lei de Pareto : 80 % dos efeitos vem de 20 % dos custos"
   ]
  },
  {
   "cell_type": "code",
   "execution_count": 25,
   "id": "welsh-nerve",
   "metadata": {},
   "outputs": [
    {
     "name": "stdout",
     "output_type": "stream",
     "text": [
      "Collecting inventorize3\n",
      "  Downloading inventorize3-0.0.1.tar.gz (16 kB)\n",
      "Requirement already satisfied: scipy in c:\\users\\carol\\onedrive\\área de trabalho\\supply_chain\\myvenv\\lib\\site-packages (from inventorize3) (1.6.1)\n",
      "Requirement already satisfied: scikit-learn in c:\\users\\carol\\onedrive\\área de trabalho\\supply_chain\\myvenv\\lib\\site-packages (from inventorize3) (0.24.1)\n",
      "Requirement already satisfied: pandas>=0.23.3 in c:\\users\\carol\\onedrive\\área de trabalho\\supply_chain\\myvenv\\lib\\site-packages (from inventorize3) (1.2.3)\n",
      "Requirement already satisfied: numpy>=1.14.5 in c:\\users\\carol\\onedrive\\área de trabalho\\supply_chain\\myvenv\\lib\\site-packages (from inventorize3) (1.20.1)\n",
      "Requirement already satisfied: pytz>=2017.3 in c:\\users\\carol\\onedrive\\área de trabalho\\supply_chain\\myvenv\\lib\\site-packages (from pandas>=0.23.3->inventorize3) (2021.1)\n",
      "Requirement already satisfied: python-dateutil>=2.7.3 in c:\\users\\carol\\onedrive\\área de trabalho\\supply_chain\\myvenv\\lib\\site-packages (from pandas>=0.23.3->inventorize3) (2.8.1)\n",
      "Requirement already satisfied: six>=1.5 in c:\\users\\carol\\onedrive\\área de trabalho\\supply_chain\\myvenv\\lib\\site-packages (from python-dateutil>=2.7.3->pandas>=0.23.3->inventorize3) (1.15.0)\n",
      "Requirement already satisfied: joblib>=0.11 in c:\\users\\carol\\onedrive\\área de trabalho\\supply_chain\\myvenv\\lib\\site-packages (from scikit-learn->inventorize3) (1.0.1)\n",
      "Requirement already satisfied: threadpoolctl>=2.0.0 in c:\\users\\carol\\onedrive\\área de trabalho\\supply_chain\\myvenv\\lib\\site-packages (from scikit-learn->inventorize3) (2.1.0)\n",
      "Using legacy 'setup.py install' for inventorize3, since package 'wheel' is not installed.\n",
      "Installing collected packages: inventorize3\n",
      "    Running setup.py install for inventorize3: started\n",
      "    Running setup.py install for inventorize3: finished with status 'done'\n",
      "Successfully installed inventorize3-0.0.1\n"
     ]
    }
   ],
   "source": [
    "!pip install inventorize3"
   ]
  },
  {
   "cell_type": "code",
   "execution_count": 26,
   "id": "baking-hollywood",
   "metadata": {},
   "outputs": [],
   "source": [
    "import pandas as pd\n",
    "import numpy as np\n",
    "import seaborn as sns\n",
    "import inventorize3 as inv"
   ]
  },
  {
   "cell_type": "code",
   "execution_count": 21,
   "id": "individual-bowling",
   "metadata": {},
   "outputs": [],
   "source": [
    "retail = pd.read_csv('online_retail2.csv')\n",
    "ratail= retail.drop_duplicates()\n",
    "retail=retail.replace('None', float(\"nan\")).dropna()\n",
    "retail = retail[retail.Quantity>0]\n",
    "retail_clean=retail.copy()\n",
    "retail_clean['Revenue'] = retail['Price']*retail['Quantity']\n",
    "retail_clean.to_csv('retail_clean.csv')\n",
    "group = retail_clean.groupby('Description').agg(total_sales=('Quantity', np.sum), total_revenue=('Revenue', np.sum)).reset_index()"
   ]
  },
  {
   "cell_type": "code",
   "execution_count": 22,
   "id": "generic-credit",
   "metadata": {},
   "outputs": [
    {
     "data": {
      "text/html": [
       "<div>\n",
       "<style scoped>\n",
       "    .dataframe tbody tr th:only-of-type {\n",
       "        vertical-align: middle;\n",
       "    }\n",
       "\n",
       "    .dataframe tbody tr th {\n",
       "        vertical-align: top;\n",
       "    }\n",
       "\n",
       "    .dataframe thead th {\n",
       "        text-align: right;\n",
       "    }\n",
       "</style>\n",
       "<table border=\"1\" class=\"dataframe\">\n",
       "  <thead>\n",
       "    <tr style=\"text-align: right;\">\n",
       "      <th></th>\n",
       "      <th>Description</th>\n",
       "      <th>total_sales</th>\n",
       "      <th>total_revenue</th>\n",
       "    </tr>\n",
       "  </thead>\n",
       "  <tbody>\n",
       "    <tr>\n",
       "      <th>0</th>\n",
       "      <td>DOORMAT UNION JACK GUNS AND ROSES</td>\n",
       "      <td>169</td>\n",
       "      <td>1084.75</td>\n",
       "    </tr>\n",
       "    <tr>\n",
       "      <th>1</th>\n",
       "      <td>3 STRIPEY MICE FELTCRAFT</td>\n",
       "      <td>663</td>\n",
       "      <td>1243.05</td>\n",
       "    </tr>\n",
       "    <tr>\n",
       "      <th>2</th>\n",
       "      <td>4 PURPLE FLOCK DINNER CANDLES</td>\n",
       "      <td>340</td>\n",
       "      <td>535.96</td>\n",
       "    </tr>\n",
       "    <tr>\n",
       "      <th>3</th>\n",
       "      <td>50'S CHRISTMAS GIFT BAG LARGE</td>\n",
       "      <td>1885</td>\n",
       "      <td>2272.25</td>\n",
       "    </tr>\n",
       "    <tr>\n",
       "      <th>4</th>\n",
       "      <td>ANIMAL STICKERS</td>\n",
       "      <td>385</td>\n",
       "      <td>80.85</td>\n",
       "    </tr>\n",
       "  </tbody>\n",
       "</table>\n",
       "</div>"
      ],
      "text/plain": [
       "                           Description  total_sales  total_revenue\n",
       "0    DOORMAT UNION JACK GUNS AND ROSES          169        1084.75\n",
       "1             3 STRIPEY MICE FELTCRAFT          663        1243.05\n",
       "2        4 PURPLE FLOCK DINNER CANDLES          340         535.96\n",
       "3        50'S CHRISTMAS GIFT BAG LARGE         1885        2272.25\n",
       "4                      ANIMAL STICKERS          385          80.85"
      ]
     },
     "execution_count": 22,
     "metadata": {},
     "output_type": "execute_result"
    }
   ],
   "source": [
    "group.head()"
   ]
  },
  {
   "cell_type": "code",
   "execution_count": 27,
   "id": "accomplished-restoration",
   "metadata": {},
   "outputs": [],
   "source": [
    "#porcentagem acumulativa de quanto a total da vend representa nas vendas totais ( dai categoriza em ABC)\n",
    "a = inv.ABC(group[['Description', 'total_sales']])"
   ]
  },
  {
   "cell_type": "code",
   "execution_count": 28,
   "id": "intellectual-likelihood",
   "metadata": {},
   "outputs": [
    {
     "data": {
      "text/plain": [
       "C    2886\n",
       "B    1244\n",
       "A    1153\n",
       "Name: Category, dtype: int64"
      ]
     },
     "execution_count": 28,
     "metadata": {},
     "output_type": "execute_result"
    }
   ],
   "source": [
    "a.Category.value_counts()"
   ]
  },
  {
   "cell_type": "code",
   "execution_count": 39,
   "id": "interim-living",
   "metadata": {},
   "outputs": [
    {
     "data": {
      "image/png": "[encoded data removed]",
      "text/plain": [
       "<Figure size 432x288 with 1 Axes>"
      ]
     },
     "metadata": {
      "needs_background": "light"
     },
     "output_type": "display_data"
    }
   ],
   "source": [
    "sns.countplot(x='Category', data=a)\n",
    "plt.show()"
   ]
  },
  {
   "cell_type": "code",
   "execution_count": 41,
   "id": "private-grade",
   "metadata": {},
   "outputs": [
    {
     "data": {
      "text/plain": [
       "<AxesSubplot:xlabel='Category', ylabel='total_sales'>"
      ]
     },
     "execution_count": 41,
     "metadata": {},
     "output_type": "execute_result"
    },
    {
     "data": {
      "image/png": "[encoded data removed]",
      "text/plain": [
       "<Figure size 432x288 with 1 Axes>"
      ]
     },
     "metadata": {
      "needs_background": "light"
     },
     "output_type": "display_data"
    }
   ],
   "source": [
    "sns.barplot(x='Category',y='total_sales', data=a)"
   ]
  },
  {
   "cell_type": "code",
   "execution_count": 31,
   "id": "adequate-plaintiff",
   "metadata": {},
   "outputs": [
    {
     "data": {
      "text/html": [
       "<div>\n",
       "<style scoped>\n",
       "    .dataframe tbody tr th:only-of-type {\n",
       "        vertical-align: middle;\n",
       "    }\n",
       "\n",
       "    .dataframe tbody tr th {\n",
       "        vertical-align: top;\n",
       "    }\n",
       "\n",
       "    .dataframe thead th {\n",
       "        text-align: right;\n",
       "    }\n",
       "</style>\n",
       "<table border=\"1\" class=\"dataframe\">\n",
       "  <thead>\n",
       "    <tr style=\"text-align: right;\">\n",
       "      <th></th>\n",
       "      <th>Description</th>\n",
       "      <th>total_sales</th>\n",
       "      <th>total_revenue</th>\n",
       "    </tr>\n",
       "  </thead>\n",
       "  <tbody>\n",
       "    <tr>\n",
       "      <th>0</th>\n",
       "      <td>DOORMAT UNION JACK GUNS AND ROSES</td>\n",
       "      <td>169</td>\n",
       "      <td>1084.75</td>\n",
       "    </tr>\n",
       "    <tr>\n",
       "      <th>1</th>\n",
       "      <td>3 STRIPEY MICE FELTCRAFT</td>\n",
       "      <td>663</td>\n",
       "      <td>1243.05</td>\n",
       "    </tr>\n",
       "    <tr>\n",
       "      <th>2</th>\n",
       "      <td>4 PURPLE FLOCK DINNER CANDLES</td>\n",
       "      <td>340</td>\n",
       "      <td>535.96</td>\n",
       "    </tr>\n",
       "    <tr>\n",
       "      <th>3</th>\n",
       "      <td>50'S CHRISTMAS GIFT BAG LARGE</td>\n",
       "      <td>1885</td>\n",
       "      <td>2272.25</td>\n",
       "    </tr>\n",
       "    <tr>\n",
       "      <th>4</th>\n",
       "      <td>ANIMAL STICKERS</td>\n",
       "      <td>385</td>\n",
       "      <td>80.85</td>\n",
       "    </tr>\n",
       "  </tbody>\n",
       "</table>\n",
       "</div>"
      ],
      "text/plain": [
       "                           Description  total_sales  total_revenue\n",
       "0    DOORMAT UNION JACK GUNS AND ROSES          169        1084.75\n",
       "1             3 STRIPEY MICE FELTCRAFT          663        1243.05\n",
       "2        4 PURPLE FLOCK DINNER CANDLES          340         535.96\n",
       "3        50'S CHRISTMAS GIFT BAG LARGE         1885        2272.25\n",
       "4                      ANIMAL STICKERS          385          80.85"
      ]
     },
     "execution_count": 31,
     "metadata": {},
     "output_type": "execute_result"
    }
   ],
   "source": [
    "group.head()"
   ]
  },
  {
   "cell_type": "code",
   "execution_count": 32,
   "id": "practical-mitchell",
   "metadata": {},
   "outputs": [
    {
     "data": {
      "text/plain": [
       "C_C    2398\n",
       "A_A     777\n",
       "B_B     631\n",
       "C_B     418\n",
       "B_C     329\n",
       "A_B     312\n",
       "B_A     284\n",
       "C_A      70\n",
       "A_C      64\n",
       "Name: product_mix, dtype: int64"
      ]
     },
     "execution_count": 32,
     "metadata": {},
     "output_type": "execute_result"
    }
   ],
   "source": [
    "b= inv.productmix(group['Description'], group['total_sales'], group['total_revenue'])\n",
    "b.product_mix.value_counts()\n",
    "#C_A vendas baixa que geram receitas altas"
   ]
  },
  {
   "cell_type": "code",
   "execution_count": 37,
   "id": "sustainable-maker",
   "metadata": {},
   "outputs": [
    {
     "name": "stdout",
     "output_type": "stream",
     "text": [
      "                                    skus  sales     revenue     sales_mix  \\\n",
      "3769            REGENCY CAKESTAND 3 TIER  24914  286486.300  2.323868e-03   \n",
      "5047  WHITE HANGING HEART T-LIGHT HOLDER  93640  252072.460  8.734324e-03   \n",
      "3129         PAPER CRAFT , LITTLE BIRDIE  80995  168469.600  7.554855e-03   \n",
      "2860                              Manual   9810  152340.570  9.150333e-04   \n",
      "2392             JUMBO BAG RED RETROSPOT  75759  136980.080  7.066464e-03   \n",
      "...                                  ...    ...         ...           ...   \n",
      "894          CAT W SUNGLASSES BLANK CARD      4       0.760  3.731023e-07   \n",
      "4046     SET 12 COLOURING PENCILS DOILEY      1       0.650  9.327557e-08   \n",
      "2181      HAPPY BIRTHDAY GINGER CAT CARD      2       0.380  1.865511e-07   \n",
      "3357     PINK HEART CHRISTMAS DECORATION      1       0.380  9.327557e-08   \n",
      "3079          PADS TO MATCH ALL CUSHIONS     18       0.017  1.678960e-06   \n",
      "\n",
      "      comulative_sales   revenue_mix  comulative_revenue sales_category  \\\n",
      "3769          0.173262  1.614605e-02            0.016146              A   \n",
      "5047          0.018917  1.420652e-02            0.030353              A   \n",
      "3129          0.026472  9.494760e-03            0.039847              A   \n",
      "2860          0.416864  8.585746e-03            0.048433              A   \n",
      "2392          0.048260  7.720045e-03            0.056153              A   \n",
      "...                ...           ...                 ...            ...   \n",
      "894           0.999969  4.283276e-08            1.000000              C   \n",
      "4046          0.999997  3.663328e-08            1.000000              C   \n",
      "2181          0.999993  2.141638e-08            1.000000              C   \n",
      "3357          0.999997  2.141638e-08            1.000000              C   \n",
      "3079          0.999608  9.581012e-10            1.000000              C   \n",
      "\n",
      "     revenue_category product_mix  \n",
      "3769                A         A_A  \n",
      "5047                A         A_A  \n",
      "3129                A         A_A  \n",
      "2860                A         A_A  \n",
      "2392                A         A_A  \n",
      "...               ...         ...  \n",
      "894                 C         C_C  \n",
      "4046                C         C_C  \n",
      "2181                C         C_C  \n",
      "3357                C         C_C  \n",
      "3079                C         C_C  \n",
      "\n",
      "[5283 rows x 10 columns]\n"
     ]
    }
   ],
   "source": [
    "print(b)"
   ]
  },
  {
   "cell_type": "code",
   "execution_count": 33,
   "id": "encouraging-arrangement",
   "metadata": {},
   "outputs": [
    {
     "data": {
      "text/plain": [
       "<AxesSubplot:xlabel='product_mix', ylabel='count'>"
      ]
     },
     "execution_count": 33,
     "metadata": {},
     "output_type": "execute_result"
    },
    {
     "data": {
      "image/png": "[encoded data removed]",
      "text/plain": [
       "<Figure size 432x288 with 1 Axes>"
      ]
     },
     "metadata": {
      "needs_background": "light"
     },
     "output_type": "display_data"
    }
   ],
   "source": [
    "sns.countplot(x='product_mix', data=b)"
   ]
  },
  {
   "cell_type": "code",
   "execution_count": 36,
   "id": "integral-retailer",
   "metadata": {},
   "outputs": [
    {
     "data": {
      "text/plain": [
       "<AxesSubplot:xlabel='product_mix', ylabel='sales'>"
      ]
     },
     "execution_count": 36,
     "metadata": {},
     "output_type": "execute_result"
    },
    {
     "data": {
      "image/png": "[encoded data removed]",
      "text/plain": [
       "<Figure size 432x288 with 1 Axes>"
      ]
     },
     "metadata": {
      "needs_background": "light"
     },
     "output_type": "display_data"
    }
   ],
   "source": [
    "sns.barplot(x='product_mix', y='sales', data=b)"
   ]
  },
  {
   "cell_type": "code",
   "execution_count": 38,
   "id": "ceramic-reverse",
   "metadata": {},
   "outputs": [
    {
     "data": {
      "text/plain": [
       "<AxesSubplot:xlabel='product_mix', ylabel='revenue'>"
      ]
     },
     "execution_count": 38,
     "metadata": {},
     "output_type": "execute_result"
    },
    {
     "data": {
      "image/png": "[encoded data removed]",
      "text/plain": [
       "<Figure size 432x288 with 1 Axes>"
      ]
     },
     "metadata": {
      "needs_background": "light"
     },
     "output_type": "display_data"
    }
   ],
   "source": [
    "sns.barplot(x='product_mix', y='revenue', data=b)\n"
   ]
  },
  {
   "cell_type": "code",
   "execution_count": null,
   "id": "worst-peeing",
   "metadata": {},
   "outputs": [],
   "source": []
  }
 ],
 "metadata": {
  "kernelspec": {
   "display_name": "Python 3",
   "language": "python",
   "name": "python3"
  },
  "language_info": {
   "codemirror_mode": {
    "name": "ipython",
    "version": 3
   },
   "file_extension": ".py",
   "mimetype": "text/x-python",
   "name": "python",
   "nbconvert_exporter": "python",
   "pygments_lexer": "ipython3",
   "version": "3.9.1"
  }
 },
 "nbformat": 4,
 "nbformat_minor": 5
}
