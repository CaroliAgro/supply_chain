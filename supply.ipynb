{
 "cells": [
  {
   "cell_type": "markdown",
   "id": "surface-reliance",
   "metadata": {},
   "source": [
    "#### Medidas de centralidade\n",
    "- Media (afetada por outliers)\n",
    "- Mediana\n",
    "- Moda ( valor mais frequente na amostra\n",
    "\n",
    "#### Medidas de propagação\n",
    "- DP - Mede a variabilidade dos dados (sum(yi -ym)^2/(n-1))^0.5\n",
    "- Quanto maior o desvio maior, pensar em estoque de segurança para atender a demanda dos clientes\n",
    "\n",
    "#### Conceitos\n",
    "\n",
    "- Outliers - observaçõe que estão distante da média ( longe da mioria das) observações -- além do padrão de distribuição. Remover antes da modelagem. Identificar a causa (evento não regular) - promoção, feriado\n",
    "- 1º quartil - valor aos 25 % da amostra ordenada separa os 25% de dados inferiores\n",
    "- 2º quartil - mediana\n",
    "- 3 º quartil - valor aos 75 % da amostra ordenada\n",
    "- Percentil indica que há x% de dados inferiores Lp= (n-1)*p/100 +1\n",
    "\n",
    "#### Regressão linear\n",
    "- Utilizada para modelar a relação entre 2 variaveis( uma dependente outra independente)\n",
    "- Variavel dependente (aquela que estamos tentando prever ) - vendas\n",
    "- Variavel independente - exemplo: preço\n",
    "- Encontre a e b com LINEST\n",
    "\n",
    "#### Distribuições demanda e tempo\n",
    "\n",
    "- Intermitente - Alta variabilidade no tempo da demanda e baixa variabilidade na quantidade demandada\n",
    "- Lumpy - Alta variabilidade no tempo da demanda e alta variabilidade na quantidade demandada (muito dificil de prever)"
   ]
  },
  {
   "cell_type": "code",
   "execution_count": 92,
   "id": "figured-speech",
   "metadata": {},
   "outputs": [
    {
     "name": "stdout",
     "output_type": "stream",
     "text": [
      "A média é 250.628\n",
      "A médiana é 245.5\n",
      "A moda é 178.0\n",
      "O desvio é 141.29252348653552\n",
      "O range é  496.0\n",
      "A variância  é 19963.577193193192\n",
      "50 % dos dados são inferiores à 245.5\n"
     ]
    }
   ],
   "source": [
    "# Demanda do suco em 500 dias \n",
    "import numpy as np\n",
    "import statistics\n",
    "def medidas_centralidade_e_propagação():\n",
    "    suco_apple = np.random.uniform(2,500, 1000).round()\n",
    "    print(f\"A média é\",suco_apple.mean())\n",
    "    print(f\"A médiana é\",statistics.median(suco_apple))\n",
    "    print(f\"A moda é\",statistics.mode(suco_apple))\n",
    "    print(f\"O desvio é\", statistics.stdev(suco_apple))\n",
    "    print(f\"O range é \", max(suco_apple)-min(suco_apple))\n",
    "    print(f\"A variância  é\", statistics.variance(suco_apple))\n",
    "    print(f\"50 % dos dados são inferiores à\", np.percentile(suco_apple,50))\n",
    "medidas_centralidade_e_propagação()"
   ]
  },
  {
   "cell_type": "code",
   "execution_count": 91,
   "id": "marine-mayor",
   "metadata": {},
   "outputs": [],
   "source": [
    "amostras = [1, 2, 6, 13, 13, 14, 14, 14, 15, 15, 16, 18, 18, 18, 20,25]\n",
    "def identificando_outliers(amostras):\n",
    "    if len(amostras)%2 ==0:\n",
    "        mediana = (amostras[int((len(amostras)-2)/2)] + amostras[int((len(amostras)-2)/2)+1])/2\n",
    "        primeiro_quartil = amostras[int(0.25*(len(amostras)))-1]\n",
    "        terceiro_quartil= amostras[int(0.75*(len(amostras)))-1]\n",
    "    else:\n",
    "        mediana = amostras[int((len(amostras) -2)/2 +1)]\n",
    "        primeiro_quartil = (amostras[int(0.25*(len(amostras)))] + amostras[int(0.25*(len(amostras)))+1])/2\n",
    "        terceiro_quartil= (amostras[int(0.75*(len(amostras)))-1] + amostras[int(0.75*(len(amostras)))])/2\n",
    "\n",
    "    IIQ = terceiro_quartil - primeiro_quartil\n",
    "    limiar_inferior = primeiro_quartil - 1.5*IIQ\n",
    "    limiar_superior = terceiro_quartil + 1.5*IIQ\n",
    "\n",
    "    outliers = [i for i in amostras if i < limiar_inferior or i > limiar_superior ]\n",
    "    return outliers"
   ]
  },
  {
   "cell_type": "markdown",
   "id": "fifty-football",
   "metadata": {},
   "source": [
    "#### Correlações"
   ]
  },
  {
   "cell_type": "code",
   "execution_count": 3,
   "id": "cultural-porcelain",
   "metadata": {},
   "outputs": [],
   "source": [
    "import pandas as pd\n",
    "import seaborn as sns"
   ]
  },
  {
   "cell_type": "code",
   "execution_count": 14,
   "id": "reverse-exclusive",
   "metadata": {},
   "outputs": [],
   "source": [
    "class Documento:\n",
    "    def __init__(self, name):\n",
    "        self.name =name\n",
    "        self.df = {}\n",
    "    def carregar_dados(self):\n",
    "        self.df = pd.read_csv(self.name)\n",
    "        return self.df\n",
    "    def limpar_dados(self):\n",
    "        return self.df.dropna(axis = 0)\n",
    "    def corr(self, a, b):\n",
    "        x = self.df.iloc[:, [a,b]].corr()\n",
    "        sns.heatmap(x)\n",
    "    def cilindros(self):\n",
    "        return self.df['cylenders'].value_counts()\n",
    "        \n",
    "        "
   ]
  },
  {
   "cell_type": "code",
   "execution_count": 16,
   "id": "outstanding-account",
   "metadata": {},
   "outputs": [
    {
     "data": {
      "image/png": "[encoded data removed]",
      "text/plain": [
       "<Figure size 432x288 with 2 Axes>"
      ]
     },
     "metadata": {
      "needs_background": "light"
     },
     "output_type": "display_data"
    }
   ],
   "source": [
    "doc = Documento('cars.csv')\n",
    "don = doc.carregar_dados()\n",
    "clean = doc.limpar_dados()\n",
    "doc.corr(12, 13)\n",
    "cili = doc.cilindros()"
   ]
  },
  {
   "cell_type": "markdown",
   "id": "blocked-alignment",
   "metadata": {},
   "source": [
    "#### Regressão Linear"
   ]
  },
  {
   "cell_type": "code",
   "execution_count": 1,
   "id": "norman-photograph",
   "metadata": {},
   "outputs": [],
   "source": [
    "import pandas as pd\n",
    "import seaborn as sns\n",
    "from sklearn.linear_model import LinearRegression"
   ]
  },
  {
   "cell_type": "code",
   "execution_count": 9,
   "id": "national-circuit",
   "metadata": {},
   "outputs": [
    {
     "name": "stdout",
     "output_type": "stream",
     "text": [
      "[-10.]\n",
      "500.0\n"
     ]
    },
    {
     "data": {
      "text/html": [
       "<div>\n",
       "<style scoped>\n",
       "    .dataframe tbody tr th:only-of-type {\n",
       "        vertical-align: middle;\n",
       "    }\n",
       "\n",
       "    .dataframe tbody tr th {\n",
       "        vertical-align: top;\n",
       "    }\n",
       "\n",
       "    .dataframe thead th {\n",
       "        text-align: right;\n",
       "    }\n",
       "</style>\n",
       "<table border=\"1\" class=\"dataframe\">\n",
       "  <thead>\n",
       "    <tr style=\"text-align: right;\">\n",
       "      <th></th>\n",
       "      <th>Demand</th>\n",
       "      <th>Price</th>\n",
       "      <th>predict</th>\n",
       "    </tr>\n",
       "  </thead>\n",
       "  <tbody>\n",
       "    <tr>\n",
       "      <th>0</th>\n",
       "      <td>400</td>\n",
       "      <td>10.0</td>\n",
       "      <td>400.0</td>\n",
       "    </tr>\n",
       "    <tr>\n",
       "      <th>1</th>\n",
       "      <td>380</td>\n",
       "      <td>12.0</td>\n",
       "      <td>380.0</td>\n",
       "    </tr>\n",
       "    <tr>\n",
       "      <th>2</th>\n",
       "      <td>370</td>\n",
       "      <td>13.0</td>\n",
       "      <td>370.0</td>\n",
       "    </tr>\n",
       "    <tr>\n",
       "      <th>3</th>\n",
       "      <td>390</td>\n",
       "      <td>11.0</td>\n",
       "      <td>390.0</td>\n",
       "    </tr>\n",
       "    <tr>\n",
       "      <th>4</th>\n",
       "      <td>395</td>\n",
       "      <td>10.5</td>\n",
       "      <td>395.0</td>\n",
       "    </tr>\n",
       "    <tr>\n",
       "      <th>5</th>\n",
       "      <td>410</td>\n",
       "      <td>9.0</td>\n",
       "      <td>410.0</td>\n",
       "    </tr>\n",
       "    <tr>\n",
       "      <th>6</th>\n",
       "      <td>430</td>\n",
       "      <td>7.0</td>\n",
       "      <td>430.0</td>\n",
       "    </tr>\n",
       "    <tr>\n",
       "      <th>7</th>\n",
       "      <td>412</td>\n",
       "      <td>8.8</td>\n",
       "      <td>412.0</td>\n",
       "    </tr>\n",
       "    <tr>\n",
       "      <th>8</th>\n",
       "      <td>370</td>\n",
       "      <td>13.0</td>\n",
       "      <td>370.0</td>\n",
       "    </tr>\n",
       "  </tbody>\n",
       "</table>\n",
       "</div>"
      ],
      "text/plain": [
       "   Demand  Price  predict\n",
       "0     400   10.0    400.0\n",
       "1     380   12.0    380.0\n",
       "2     370   13.0    370.0\n",
       "3     390   11.0    390.0\n",
       "4     395   10.5    395.0\n",
       "5     410    9.0    410.0\n",
       "6     430    7.0    430.0\n",
       "7     412    8.8    412.0\n",
       "8     370   13.0    370.0"
      ]
     },
     "execution_count": 9,
     "metadata": {},
     "output_type": "execute_result"
    }
   ],
   "source": [
    "pricing = pd.read_excel('pricing.xlsx', engine='openpyxl' )\n",
    "X = pricing.Price.values.reshape(-1,1) #variável independente\n",
    "y = pricing.Demand\n",
    "model = LinearRegression()\n",
    "model.fit(X, y)\n",
    "print(model.coef_)\n",
    "print(model.intercept_)\n",
    "pricing['predict']=model.predict(X)\n",
    "pricing"
   ]
  },
  {
   "cell_type": "code",
   "execution_count": 3,
   "id": "comprehensive-effectiveness",
   "metadata": {},
   "outputs": [
    {
     "data": {
      "text/html": [
       "<div>\n",
       "<style scoped>\n",
       "    .dataframe tbody tr th:only-of-type {\n",
       "        vertical-align: middle;\n",
       "    }\n",
       "\n",
       "    .dataframe tbody tr th {\n",
       "        vertical-align: top;\n",
       "    }\n",
       "\n",
       "    .dataframe thead th {\n",
       "        text-align: right;\n",
       "    }\n",
       "</style>\n",
       "<table border=\"1\" class=\"dataframe\">\n",
       "  <thead>\n",
       "    <tr style=\"text-align: right;\">\n",
       "      <th></th>\n",
       "      <th>Demand</th>\n",
       "      <th>Price</th>\n",
       "    </tr>\n",
       "  </thead>\n",
       "  <tbody>\n",
       "    <tr>\n",
       "      <th>0</th>\n",
       "      <td>400</td>\n",
       "      <td>10.0</td>\n",
       "    </tr>\n",
       "    <tr>\n",
       "      <th>1</th>\n",
       "      <td>380</td>\n",
       "      <td>12.0</td>\n",
       "    </tr>\n",
       "    <tr>\n",
       "      <th>2</th>\n",
       "      <td>370</td>\n",
       "      <td>13.0</td>\n",
       "    </tr>\n",
       "    <tr>\n",
       "      <th>3</th>\n",
       "      <td>390</td>\n",
       "      <td>11.0</td>\n",
       "    </tr>\n",
       "    <tr>\n",
       "      <th>4</th>\n",
       "      <td>395</td>\n",
       "      <td>10.5</td>\n",
       "    </tr>\n",
       "  </tbody>\n",
       "</table>\n",
       "</div>"
      ],
      "text/plain": [
       "   Demand  Price\n",
       "0     400   10.0\n",
       "1     380   12.0\n",
       "2     370   13.0\n",
       "3     390   11.0\n",
       "4     395   10.5"
      ]
     },
     "execution_count": 3,
     "metadata": {},
     "output_type": "execute_result"
    }
   ],
   "source": [
    "pricing.head()"
   ]
  },
  {
   "cell_type": "markdown",
   "id": "macro-edgar",
   "metadata": {},
   "source": [
    "#### Teste hipotese\n",
    "- Verificar se a frequência com que um determinado acontecimento observado em uma amostra se desvia significativamente ou não da frequência com que ele é esperado\n",
    "- hipotese nula ( segue uma distribuição normal) –frequências observadas = frequências esperadas\n",
    "- if p-value > 0.05 (não rejeito a hipotese nula)\n",
    "- if p-value < 0.05 (rejeito hipotese)"
   ]
  },
  {
   "cell_type": "code",
   "execution_count": null,
   "id": "ethical-information",
   "metadata": {},
   "outputs": [],
   "source": []
  }
 ],
 "metadata": {
  "kernelspec": {
   "display_name": "Python 3",
   "language": "python",
   "name": "python3"
  },
  "language_info": {
   "codemirror_mode": {
    "name": "ipython",
    "version": 3
   },
   "file_extension": ".py",
   "mimetype": "text/x-python",
   "name": "python",
   "nbconvert_exporter": "python",
   "pygments_lexer": "ipython3",
   "version": "3.9.1"
  }
 },
 "nbformat": 4,
 "nbformat_minor": 5
}
