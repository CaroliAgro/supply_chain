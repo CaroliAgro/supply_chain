{
 "cells": [
  {
   "cell_type": "markdown",
   "id": "surface-reliance",
   "metadata": {},
   "source": [
    "#### Medidas de centralidade\n",
    "- Media (afetada por outliers)\n",
    "- Mediana\n",
    "- Moda ( valor mais frequente na amostra\n",
    "\n",
    "#### Medidas de propagação\n",
    "- DP - Mede a variabilidade dos dados (sum(yi -ym)^2/(n-1))^0.5\n",
    "- Quanto maior o desvio maior, pensar em estoque de segurança para atender a demanda dos clientes\n",
    "\n",
    "#### Conceitos\n",
    "\n",
    "- Outliers - observaçõe que estão distante da média ( longe da mioria das observações\n",
    "- 1º quartil - valor aos 25 % da amostra ordenada separa os 25% de dados inferiores\n",
    "- 2º quartil - mediana\n",
    "- 3 º quartil - valor aos 75 % da amostra ordenada\n",
    "- Percentil indica que há x% de dados inferiores Lp= (n-1)*p/100 +1"
   ]
  },
  {
   "cell_type": "code",
   "execution_count": 22,
   "id": "figured-speech",
   "metadata": {},
   "outputs": [
    {
     "name": "stdout",
     "output_type": "stream",
     "text": [
      "A média é 254.612\n",
      "A médiana é 254.0\n",
      "A moda é 433.0\n",
      "O desvio é 142.54754034095873\n",
      "O range é  495.0\n",
      "A variância  é 20319.80125725726\n",
      "50 % dos dados são inferiores à 254.0\n"
     ]
    }
   ],
   "source": [
    "# Demanda do suco em 500 dias \n",
    "import numpy as np\n",
    "import statistics\n",
    "suco_apple = np.random.uniform(2,500, 1000).round()\n",
    "print(f\"A média é\",suco_apple.mean())\n",
    "print(f\"A médiana é\",statistics.median(suco_apple))\n",
    "print(f\"A moda é\",statistics.mode(suco_apple))\n",
    "print(f\"O desvio é\", statistics.stdev(suco_apple))\n",
    "print(f\"O range é \", max(suco_apple)-min(suco_apple))\n",
    "print(f\"A variância  é\", statistics.variance(suco_apple))\n",
    "print(f\"50 % dos dados são inferiores à\", np.percentile(suco_apple,50))"
   ]
  },
  {
   "cell_type": "markdown",
   "id": "racial-baptist",
   "metadata": {},
   "source": [
    "#### Correlations"
   ]
  },
  {
   "cell_type": "code",
   "execution_count": 24,
   "id": "cultural-porcelain",
   "metadata": {},
   "outputs": [],
   "source": [
    "import pandas as pd"
   ]
  },
  {
   "cell_type": "code",
   "execution_count": 74,
   "id": "reverse-exclusive",
   "metadata": {},
   "outputs": [],
   "source": [
    "class Documento:\n",
    "    def __init__(self, name):\n",
    "        self.name =name\n",
    "        self.df = {}\n",
    "    def carregar_dados(self):\n",
    "        self.df = pd.read_csv(self.name)\n",
    "        return self.df\n",
    "    def limpar_dados(self):\n",
    "        return self.df.dropna(axis = 0)\n",
    "    def corr(self):\n",
    "        return self.df.iloc[:, [12,13]].corr()\n",
    "        "
   ]
  },
  {
   "cell_type": "code",
   "execution_count": 75,
   "id": "outstanding-account",
   "metadata": {},
   "outputs": [],
   "source": [
    "doc = Documento('cars.csv')\n",
    "don = doc.carregar_dados()\n",
    "clean = doc.limpar_dados()\n",
    "cor = doc.corr()"
   ]
  },
  {
   "cell_type": "code",
   "execution_count": 76,
   "id": "spoken-framework",
   "metadata": {},
   "outputs": [
    {
     "name": "stdout",
     "output_type": "stream",
     "text": [
      "                        horsepower  city_miles_per_galloon\n",
      "horsepower                1.000000               -0.666256\n",
      "city_miles_per_galloon   -0.666256                1.000000\n"
     ]
    }
   ],
   "source": [
    "print(cor)"
   ]
  },
  {
   "cell_type": "code",
   "execution_count": 66,
   "id": "compact-exemption",
   "metadata": {},
   "outputs": [],
   "source": [
    "don = doc.carregar_dados()"
   ]
  },
  {
   "cell_type": "code",
   "execution_count": 67,
   "id": "former-aruba",
   "metadata": {},
   "outputs": [],
   "source": [
    "clean = doc.limpar_dados()"
   ]
  },
  {
   "cell_type": "code",
   "execution_count": 69,
   "id": "greenhouse-delta",
   "metadata": {},
   "outputs": [
    {
     "name": "stdout",
     "output_type": "stream",
     "text": [
      "<class 'pandas.core.frame.DataFrame'>\n",
      "Int64Index: 387 entries, 0 to 403\n",
      "Data columns (total 19 columns):\n",
      " #   Column                    Non-Null Count  Dtype  \n",
      "---  ------                    --------------  -----  \n",
      " 0   name                      387 non-null    object \n",
      " 1   sports_car                387 non-null    bool   \n",
      " 2   suv                       387 non-null    bool   \n",
      " 3   wagon                     387 non-null    bool   \n",
      " 4   minivan                   387 non-null    bool   \n",
      " 5   pickup                    387 non-null    bool   \n",
      " 6   all_wheel                 387 non-null    bool   \n",
      " 7   rear_wheel                387 non-null    bool   \n",
      " 8   Price                     387 non-null    int64  \n",
      " 9   Dealer_Cost               387 non-null    int64  \n",
      " 10  Engine_size               387 non-null    float64\n",
      " 11  cylenders                 387 non-null    int64  \n",
      " 12  horsepower                387 non-null    int64  \n",
      " 13  city_miles_per_galloon    387 non-null    float64\n",
      " 14  highway_miles_per_Gallon  387 non-null    float64\n",
      " 15  weight                    387 non-null    float64\n",
      " 16  base_wheeel               387 non-null    float64\n",
      " 17  length                    387 non-null    float64\n",
      " 18  width                     387 non-null    float64\n",
      "dtypes: bool(7), float64(7), int64(4), object(1)\n",
      "memory usage: 42.0+ KB\n"
     ]
    }
   ],
   "source": [
    "clean.info()"
   ]
  },
  {
   "cell_type": "code",
   "execution_count": 33,
   "id": "marine-arkansas",
   "metadata": {},
   "outputs": [
    {
     "data": {
      "text/plain": [
       "'cars.csv'"
      ]
     },
     "execution_count": 33,
     "metadata": {},
     "output_type": "execute_result"
    }
   ],
   "source": [
    "doc.name"
   ]
  },
  {
   "cell_type": "code",
   "execution_count": 25,
   "id": "meaning-percentage",
   "metadata": {},
   "outputs": [],
   "source": [
    "cars = pd.read_csv('cars.csv')"
   ]
  },
  {
   "cell_type": "code",
   "execution_count": 26,
   "id": "secondary-preserve",
   "metadata": {},
   "outputs": [
    {
     "data": {
      "text/html": [
       "<div>\n",
       "<style scoped>\n",
       "    .dataframe tbody tr th:only-of-type {\n",
       "        vertical-align: middle;\n",
       "    }\n",
       "\n",
       "    .dataframe tbody tr th {\n",
       "        vertical-align: top;\n",
       "    }\n",
       "\n",
       "    .dataframe thead th {\n",
       "        text-align: right;\n",
       "    }\n",
       "</style>\n",
       "<table border=\"1\" class=\"dataframe\">\n",
       "  <thead>\n",
       "    <tr style=\"text-align: right;\">\n",
       "      <th></th>\n",
       "      <th>name</th>\n",
       "      <th>sports_car</th>\n",
       "      <th>suv</th>\n",
       "      <th>wagon</th>\n",
       "      <th>minivan</th>\n",
       "      <th>pickup</th>\n",
       "      <th>all_wheel</th>\n",
       "      <th>rear_wheel</th>\n",
       "      <th>Price</th>\n",
       "      <th>Dealer_Cost</th>\n",
       "      <th>Engine_size</th>\n",
       "      <th>cylenders</th>\n",
       "      <th>horsepower</th>\n",
       "      <th>city_miles_per_galloon</th>\n",
       "      <th>highway_miles_per_Gallon</th>\n",
       "      <th>weight</th>\n",
       "      <th>base_wheeel</th>\n",
       "      <th>length</th>\n",
       "      <th>width</th>\n",
       "    </tr>\n",
       "  </thead>\n",
       "  <tbody>\n",
       "    <tr>\n",
       "      <th>0</th>\n",
       "      <td>Chevrolet Aveo 4dr</td>\n",
       "      <td>False</td>\n",
       "      <td>False</td>\n",
       "      <td>False</td>\n",
       "      <td>False</td>\n",
       "      <td>False</td>\n",
       "      <td>False</td>\n",
       "      <td>False</td>\n",
       "      <td>11690</td>\n",
       "      <td>10965</td>\n",
       "      <td>1.6</td>\n",
       "      <td>4</td>\n",
       "      <td>103</td>\n",
       "      <td>28.0</td>\n",
       "      <td>34.0</td>\n",
       "      <td>2370.0</td>\n",
       "      <td>98.0</td>\n",
       "      <td>167.0</td>\n",
       "      <td>66.0</td>\n",
       "    </tr>\n",
       "    <tr>\n",
       "      <th>1</th>\n",
       "      <td>Chevrolet Aveo LS 4dr hatch</td>\n",
       "      <td>False</td>\n",
       "      <td>False</td>\n",
       "      <td>False</td>\n",
       "      <td>False</td>\n",
       "      <td>False</td>\n",
       "      <td>False</td>\n",
       "      <td>False</td>\n",
       "      <td>12585</td>\n",
       "      <td>11802</td>\n",
       "      <td>1.6</td>\n",
       "      <td>4</td>\n",
       "      <td>103</td>\n",
       "      <td>28.0</td>\n",
       "      <td>34.0</td>\n",
       "      <td>2348.0</td>\n",
       "      <td>98.0</td>\n",
       "      <td>153.0</td>\n",
       "      <td>66.0</td>\n",
       "    </tr>\n",
       "    <tr>\n",
       "      <th>2</th>\n",
       "      <td>Chevrolet Cavalier 2dr</td>\n",
       "      <td>False</td>\n",
       "      <td>False</td>\n",
       "      <td>False</td>\n",
       "      <td>False</td>\n",
       "      <td>False</td>\n",
       "      <td>False</td>\n",
       "      <td>False</td>\n",
       "      <td>14610</td>\n",
       "      <td>13697</td>\n",
       "      <td>2.2</td>\n",
       "      <td>4</td>\n",
       "      <td>140</td>\n",
       "      <td>26.0</td>\n",
       "      <td>37.0</td>\n",
       "      <td>2617.0</td>\n",
       "      <td>104.0</td>\n",
       "      <td>183.0</td>\n",
       "      <td>69.0</td>\n",
       "    </tr>\n",
       "    <tr>\n",
       "      <th>3</th>\n",
       "      <td>Chevrolet Cavalier 4dr</td>\n",
       "      <td>False</td>\n",
       "      <td>False</td>\n",
       "      <td>False</td>\n",
       "      <td>False</td>\n",
       "      <td>False</td>\n",
       "      <td>False</td>\n",
       "      <td>False</td>\n",
       "      <td>14810</td>\n",
       "      <td>13884</td>\n",
       "      <td>2.2</td>\n",
       "      <td>4</td>\n",
       "      <td>140</td>\n",
       "      <td>26.0</td>\n",
       "      <td>37.0</td>\n",
       "      <td>2676.0</td>\n",
       "      <td>104.0</td>\n",
       "      <td>183.0</td>\n",
       "      <td>68.0</td>\n",
       "    </tr>\n",
       "    <tr>\n",
       "      <th>4</th>\n",
       "      <td>Chevrolet Cavalier LS 2dr</td>\n",
       "      <td>False</td>\n",
       "      <td>False</td>\n",
       "      <td>False</td>\n",
       "      <td>False</td>\n",
       "      <td>False</td>\n",
       "      <td>False</td>\n",
       "      <td>False</td>\n",
       "      <td>16385</td>\n",
       "      <td>15357</td>\n",
       "      <td>2.2</td>\n",
       "      <td>4</td>\n",
       "      <td>140</td>\n",
       "      <td>26.0</td>\n",
       "      <td>37.0</td>\n",
       "      <td>2617.0</td>\n",
       "      <td>104.0</td>\n",
       "      <td>183.0</td>\n",
       "      <td>69.0</td>\n",
       "    </tr>\n",
       "  </tbody>\n",
       "</table>\n",
       "</div>"
      ],
      "text/plain": [
       "                          name  sports_car    suv  wagon  minivan  pickup  \\\n",
       "0           Chevrolet Aveo 4dr       False  False  False    False   False   \n",
       "1  Chevrolet Aveo LS 4dr hatch       False  False  False    False   False   \n",
       "2       Chevrolet Cavalier 2dr       False  False  False    False   False   \n",
       "3       Chevrolet Cavalier 4dr       False  False  False    False   False   \n",
       "4    Chevrolet Cavalier LS 2dr       False  False  False    False   False   \n",
       "\n",
       "   all_wheel  rear_wheel  Price  Dealer_Cost  Engine_size  cylenders  \\\n",
       "0      False       False  11690        10965          1.6          4   \n",
       "1      False       False  12585        11802          1.6          4   \n",
       "2      False       False  14610        13697          2.2          4   \n",
       "3      False       False  14810        13884          2.2          4   \n",
       "4      False       False  16385        15357          2.2          4   \n",
       "\n",
       "   horsepower  city_miles_per_galloon  highway_miles_per_Gallon  weight  \\\n",
       "0         103                    28.0                      34.0  2370.0   \n",
       "1         103                    28.0                      34.0  2348.0   \n",
       "2         140                    26.0                      37.0  2617.0   \n",
       "3         140                    26.0                      37.0  2676.0   \n",
       "4         140                    26.0                      37.0  2617.0   \n",
       "\n",
       "   base_wheeel  length  width  \n",
       "0         98.0   167.0   66.0  \n",
       "1         98.0   153.0   66.0  \n",
       "2        104.0   183.0   69.0  \n",
       "3        104.0   183.0   68.0  \n",
       "4        104.0   183.0   69.0  "
      ]
     },
     "execution_count": 26,
     "metadata": {},
     "output_type": "execute_result"
    }
   ],
   "source": [
    "cars.head()"
   ]
  },
  {
   "cell_type": "code",
   "execution_count": 27,
   "id": "educated-order",
   "metadata": {},
   "outputs": [
    {
     "data": {
      "text/html": [
       "<div>\n",
       "<style scoped>\n",
       "    .dataframe tbody tr th:only-of-type {\n",
       "        vertical-align: middle;\n",
       "    }\n",
       "\n",
       "    .dataframe tbody tr th {\n",
       "        vertical-align: top;\n",
       "    }\n",
       "\n",
       "    .dataframe thead th {\n",
       "        text-align: right;\n",
       "    }\n",
       "</style>\n",
       "<table border=\"1\" class=\"dataframe\">\n",
       "  <thead>\n",
       "    <tr style=\"text-align: right;\">\n",
       "      <th></th>\n",
       "      <th>horsepower</th>\n",
       "      <th>city_miles_per_galloon</th>\n",
       "    </tr>\n",
       "  </thead>\n",
       "  <tbody>\n",
       "    <tr>\n",
       "      <th>horsepower</th>\n",
       "      <td>1.000000</td>\n",
       "      <td>-0.666256</td>\n",
       "    </tr>\n",
       "    <tr>\n",
       "      <th>city_miles_per_galloon</th>\n",
       "      <td>-0.666256</td>\n",
       "      <td>1.000000</td>\n",
       "    </tr>\n",
       "  </tbody>\n",
       "</table>\n",
       "</div>"
      ],
      "text/plain": [
       "                        horsepower  city_miles_per_galloon\n",
       "horsepower                1.000000               -0.666256\n",
       "city_miles_per_galloon   -0.666256                1.000000"
      ]
     },
     "execution_count": 27,
     "metadata": {},
     "output_type": "execute_result"
    }
   ],
   "source": [
    "cars.iloc[:, [12,13]].corr()"
   ]
  },
  {
   "cell_type": "code",
   "execution_count": 28,
   "id": "dressed-banks",
   "metadata": {},
   "outputs": [
    {
     "data": {
      "text/plain": [
       " 6     190\n",
       " 4     136\n",
       " 8      87\n",
       " 5       7\n",
       " 12      3\n",
       "-1       2\n",
       " 10      2\n",
       " 3       1\n",
       "Name: cylenders, dtype: int64"
      ]
     },
     "execution_count": 28,
     "metadata": {},
     "output_type": "execute_result"
    }
   ],
   "source": [
    "cars.cylenders.value_counts()"
   ]
  },
  {
   "cell_type": "code",
   "execution_count": 30,
   "id": "turkish-warren",
   "metadata": {},
   "outputs": [],
   "source": [
    "cars.dropna(axis=0, inplace=True)"
   ]
  },
  {
   "cell_type": "code",
   "execution_count": null,
   "id": "elder-bibliography",
   "metadata": {},
   "outputs": [],
   "source": []
  }
 ],
 "metadata": {
  "kernelspec": {
   "display_name": "Python 3",
   "language": "python",
   "name": "python3"
  },
  "language_info": {
   "codemirror_mode": {
    "name": "ipython",
    "version": 3
   },
   "file_extension": ".py",
   "mimetype": "text/x-python",
   "name": "python",
   "nbconvert_exporter": "python",
   "pygments_lexer": "ipython3",
   "version": "3.9.1"
  }
 },
 "nbformat": 4,
 "nbformat_minor": 5
}
